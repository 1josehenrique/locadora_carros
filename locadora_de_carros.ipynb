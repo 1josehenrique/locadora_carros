{
  "nbformat": 4,
  "nbformat_minor": 0,
  "metadata": {
    "colab": {
      "provenance": [],
      "authorship_tag": "ABX9TyOeN1YG/8uH1aLLfS9CwdBR",
      "include_colab_link": true
    },
    "kernelspec": {
      "name": "python3",
      "display_name": "Python 3"
    },
    "language_info": {
      "name": "python"
    }
  },
  "cells": [
    {
      "cell_type": "markdown",
      "metadata": {
        "id": "view-in-github",
        "colab_type": "text"
      },
      "source": [
        "<a href=\"https://colab.research.google.com/github/1josehenrique/locadora_carros/blob/main/locadora_de_carros.ipynb\" target=\"_parent\"><img src=\"https://colab.research.google.com/assets/colab-badge.svg\" alt=\"Open In Colab\"/></a>"
      ]
    },
    {
      "cell_type": "markdown",
      "source": [
        "# Software de Gestão para Locadora de Carros"
      ],
      "metadata": {
        "id": "SxrecQhv0Uzs"
      }
    },
    {
      "cell_type": "code",
      "source": [
        "from IPython.display import clear_output\n",
        "\n",
        "# Importa a função clear_output do módulo IPython.display, que será usada para limpar a saída do console.\n",
        "\n",
        "# Função para exibir o menu\n",
        "def display_menu():\n",
        "    print(\"====================\")\n",
        "    print(\"Bem-vindo à Locadora de Carros!\")\n",
        "    print(\"====================\")\n",
        "    print(\"O que deseja fazer?\")\n",
        "    print(\"====================\")\n",
        "    print(\"1 - Consultar os carros disponíveis\")\n",
        "    print(\"2 - Alugar um carro\")\n",
        "    print(\"3 - Devolver um carro\")\n",
        "    print(\"4 - Sair do programa\")\n",
        "    print(\"====================\")\n",
        "\n",
        "# Função para exibir a lista de carros disponíveis\n",
        "def display_car_list(car_inventory):\n",
        "    print(\"Carros disponíveis para aluguel:\")\n",
        "    print(\"====================\")\n",
        "    for car_number, car_info in car_inventory.items():\n",
        "        print(car_number, \"-\", car_info[\"name\"], \":\", \"R$\", car_info[\"price\"], \"/ dia\")\n",
        "    print(\"====================\")\n",
        "\n",
        "# Função para alugar um carro\n",
        "def rent_car(car_number, car_inventory, rented_cars):\n",
        "    if car_number not in car_inventory:\n",
        "        print(\"Opção inválida.\")\n",
        "        return\n",
        "    \n",
        "    car_info = car_inventory[car_number]\n",
        "    car_name = car_info[\"name\"]\n",
        "    car_price = car_info[\"price\"]\n",
        "    \n",
        "    if car_name in rented_cars:\n",
        "        print(\"Desculpe, o\", car_name, \"já está alugado.\")\n",
        "        return\n",
        "    \n",
        "    print(\"Você escolheu o\", car_name)\n",
        "    days = int(input(\"Por quantos dias você deseja alugar esse veículo? \"))\n",
        "    total = days * car_price\n",
        "    print(\"====================\")\n",
        "    print(\"O aluguel do veículo durante\", days, \"dias, custará R$\", total)\n",
        "    answer = input(\"Deseja prosseguir com o aluguel do veículo? (s/n) \")\n",
        "    if answer.lower() == \"s\":\n",
        "        print(\"====================\")\n",
        "        print(\"Parabéns, você alugou o\", car_name, \"por\", days, \"dias!\")\n",
        "        print(\"====================\")\n",
        "        \n",
        "        # Adiciona o carro alugado à lista de carros alugados\n",
        "        rented_cars[car_number] = car_info\n",
        "        # Remove o carro alugado da lista de carros disponíveis\n",
        "        del car_inventory[car_number]\n",
        "\n",
        "# Função para devolver um carro\n",
        "def return_car(car_number, car_inventory, rented_cars):\n",
        "    if car_number not in rented_cars:\n",
        "        print(\"Este carro não foi alugado.\")\n",
        "        return\n",
        "    \n",
        "    car_info = rented_cars[car_number]\n",
        "    car_name = car_info[\"name\"]\n",
        "    \n",
        "    print(\"Você está devolvendo o\", car_name)\n",
        "    \n",
        "    # Adiciona o carro devolvido de volta à lista de carros disponíveis\n",
        "    car_inventory[car_number] = car_info\n",
        "    # Remove o carro devolvido da lista de carros alugados\n",
        "    del rented_cars[car_number]\n",
        "    \n",
        "    print(\"O\", car_name, \"foi devolvido com sucesso!\")\n",
        "\n",
        "# Função para lidar com a escolha do menu\n",
        "def handle_menu_choice(choice, car_inventory, rented_cars):\n",
        "    if choice == 1:\n",
        "        display_car_list(car_inventory)\n",
        "    elif choice == 2:\n",
        "        display_car_list(car_inventory)\n",
        "        car_number = int(input(\"Escolha o modelo que deseja alugar: \"))\n",
        "        rent_car(car_number, car_inventory, rented_cars)\n",
        "    elif choice == 3:\n",
        "        if len(rented_cars) == 0:\n",
        "            print(\"Não há carros alugados no momento.\")\n",
        "        else:\n",
        "            print(\"Carros alugados:\")\n",
        "            print(\"====================\")\n",
        "            for car_number, car_info in rented_cars.items():\n",
        "                print(car_number, \"-\", car_info[\"name\"])\n",
        "            print(\"====================\")\n",
        "            car_number = int(input(\"Escolha o carro que deseja devolver: \"))\n",
        "            return_car(car_number, car_inventory, rented_cars)\n",
        "    elif choice == 4:\n",
        "        print(\"Saindo do programa...\")\n",
        "        return False\n",
        "    else:\n",
        "        print(\"Opção inválida.\")\n",
        "    \n",
        "    return True\n",
        "\n",
        "# Função principal do programa\n",
        "def main():\n",
        "    # Dicionário de carros disponíveis para aluguel\n",
        "    car_inventory = {\n",
        "        1: {\"name\": \"Chevrolet Tracker\", \"price\": 120},\n",
        "        2: {\"name\": \"Chevrolet Onix\", \"price\": 90},\n",
        "        3: {\"name\": \"Chevrolet Spin\", \"price\": 150},\n",
        "        4: {\"name\": \"Hyundai HB20\", \"price\": 85},\n",
        "        5: {\"name\": \"Hyundai Tucson\", \"price\": 120},\n",
        "        6: {\"name\": \"Fiat Uno\", \"price\": 60},\n",
        "        7: {\"name\": \"Fiat Mobi\", \"price\": 70},\n",
        "        8: {\"name\": \"Fiat Pulse\", \"price\": 130}\n",
        "    }\n",
        "    \n",
        "    # Dicionário de carros alugados\n",
        "    rented_cars = {}\n",
        "    \n",
        "    while True:\n",
        "        display_menu()\n",
        "        action = int(input())\n",
        "        clear_output()\n",
        "        \n",
        "        if not handle_menu_choice(action, car_inventory, rented_cars):\n",
        "            break\n",
        "\n",
        "if __name__ == \"__main__\":\n",
        "    main()\n"
      ],
      "metadata": {
        "colab": {
          "base_uri": "https://localhost:8080/"
        },
        "id": "ZNeFTJff0g4T",
        "outputId": "31c23187-b1f8-46a4-9851-291bc4d84f37"
      },
      "execution_count": 28,
      "outputs": [
        {
          "output_type": "stream",
          "name": "stdout",
          "text": [
            "Saindo do programa...\n"
          ]
        }
      ]
    }
  ]
}